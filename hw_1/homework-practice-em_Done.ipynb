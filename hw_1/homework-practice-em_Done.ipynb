{
 "cells": [
  {
   "cell_type": "markdown",
   "metadata": {},
   "source": [
    "# Практическое задание 1. EM-алгоритм\n",
    "\n",
    "[Источник практического задания](https://github.com/mmp-mmro-team/mmp_mmro_spring_2024/blob/main/Homework3/homework-practice-09-em.ipynb)\n",
    "\n",
    "## Оценивание и штрафы\n",
    "Каждая из задач имеет определенную «стоимость» (указана в скобках около задачи).\n",
    "\n",
    "Сдавать задание после указанного жёсткого срока сдачи нельзя.\n",
    "\n",
    "Задание выполняется самостоятельно. «Похожие» решения считаются плагиатом и все задействованные студенты (в том числе те, у кого списали) не могут получить за него больше 0 баллов. Если вы нашли решение какого-то из заданий (или его часть) в открытом источнике, необходимо указать ссылку на этот источник в отдельном блоке в конце вашей работы (скорее всего вы будете не единственным, кто это нашел, поэтому чтобы исключить подозрение в плагиате, необходима ссылка на источник).\n",
    "\n",
    "Неэффективная реализация кода может негативно отразиться на оценке.\n",
    "\n",
    "## Формат сдачи !!ВАЖНО!!!\n",
    "Задания сдаются через систему google classroom. Посылка должна содержать:\n",
    "* Ноутбук homework-practice-em-Username.ipynb\n",
    "\n",
    "Username — ваша фамилия и имя на латинице именно в таком порядке"
   ]
  },
  {
   "cell_type": "markdown",
   "metadata": {},
   "source": [
    "<p style=\"color:#de3815;font-size:25px;\">\n",
    "Напоминание об оформлении и выполнении ноутбука\n",
    "</p>"
   ]
  },
  {
   "cell_type": "markdown",
   "metadata": {},
   "source": [
    "* Все строчки должны быть выполнены. Нужно, чтобы output команды можно было увидеть, не запуская ячейки (кроме редких случаев, когда необходимо намеренно скрыть ненужный output, про такие случаи желательно писать пояснения в тексте). **В противном случае -1 балл**\n",
    "* При оформлении ДЗ нужно пользоваться данным файлом в качестве шаблона. Не нужно удалять и видоизменять написанный код и текст, если явно не указана такая возможность. **В противном случае -1 балл**\n",
    "* В anytask обязательно нужно прикреплять отдельно файл с расширением ipynb (не в архиве, а именно отдельно). Если необходимо отправить еще какие-то файлы, то вынесите их в отдельный архив (если файлов много) и пришлите. **В противном случае -0.5 балла**\n",
    "---\n",
    "* Пишите, пожалуйста, выводы и ответы на вопросы в текстовых ячейках/при помощи print в коде. При их отсутствии мы не можем понять, сделали ли вы задание и понимаете, что происходит, и **поэтому будем снижать баллы**\n",
    "* Если алгоритм не сказано реализовывать явно, его всегда можно импортировать из библиотеки.\n",
    "---\n",
    "* Про графики. _Штрафы будут применяться к каждому результату команды отображения графика (plt.show() и др. аналогичные). Исключением являются графики, генерируемые функциями каких-либо сторонних библиотек, если их нельзя кастомизировать_\n",
    "\n",
    "    * должно быть название (plt.title) графика; **В противном случае &ndash; -0.05 балла**\n",
    "    * на графиках должны быть подписаны оси (plt.xlabel, plt.ylabel); **В противном случае &ndash; -0.025 балла за каждую ось**\n",
    "    * должны быть подписаны единицы измерения (если это возможно); **В противном случае &ndash; -0.025 балла за каждую ось**\n",
    "    * все названия должны быть понятны любому человеку, знакомому с терминологией, без заглядывания в код; **В противном случае &ndash; -0.05 балла**\n",
    "    * подписи тиков на осях не должны сливаться как на одной оси, так и между ними; **В противном случае &ndash; -0.025 балла за каждую ось**\n",
    "    * если изображено несколько сущностей на одном холсте (например несколько функций), то необходима поясняющая легенда (plt.legend); **В противном случае &ndash; -0.05 балла**\n",
    "    * все линии на графиках должны быть чётко видны (нет похожих цветов или цветов, сливающихся с фоном); **В противном случае &ndash; -0.05 балла**\n",
    "    * если отображена величина, имеющая очевидный диапазон значений (например, проценты могут быть от 0 до 100), то желательно масштабировать ось на весь диапазон значений (исключением является случай, когда вам необходимо показать малое отличие, которое незаметно в таких масштабах);\n",
    "    * графики должны быть не супер-микро и не супер-макро по размерам, так, чтобы можно было увидеть все, что нужно.\n",
    "    * при необходимости улучшения наглядности графиков, можно пользоваться логарифмической шкалой по осям x/y.\n",
    "    \n",
    "    \n",
    "### А также..\n",
    "\n",
    "* Для удобства поиска вопросов, на которые от вас просят ответа, мы пометили их знаком **(?)**\n",
    "* Знак **(!)** означает, что выполнение замечания необходимо для **возможности получения полного балла**"
   ]
  },
  {
   "cell_type": "markdown",
   "metadata": {},
   "source": [
    "# Generative model of Labels, Abilities, and Difficulties (GLAD)\n",
    "\n",
    "В [семинаре 15](https:/github.com/esokolov/ml-course-hse/blob/master/2020-spring/seminars/sem15-em.pdf) мы рассмотрели задачу восстановления истинной разметки по меткам от экспертов (которым мы не можем доверять в полной мере, более того, их предсказания могут расходиться).\n",
    "\n",
    "Рассмотрим следующую вероятностную модель:\n",
    "\n",
    "$$ p(L, Z | \\alpha, \\beta) = \\prod_{i=1}^{n} \\prod_{j=1}^m \\sigma(\\alpha_j\\beta_i)^{[l_{ij}=z_i]}\\sigma(-\\alpha_j\\beta_i)^{1-[l_{ij}=z_i]} p(z_j)$$\n",
    "\n",
    "где $l_{ij} -$ ответ $j$-го эксперта на задачу $i$, $z_j -$ истинная разметка, $\\alpha_j, \\beta_i-$ уровень экспертизы и сложность задачи соответственно. Для более подробного описания модели можно прочитать материалы семинара, а также [оригинальную статью](http://papers.nips.cc/paper/3644-whose-vote-should-count-more-optimal-integration-of-labels-from-labelers-of-unknown-expertise.pdf). Априорное распределение положим равномерным: $p(z_i) = 0.5$."
   ]
  },
  {
   "cell_type": "code",
   "execution_count": 1,
   "metadata": {},
   "outputs": [],
   "source": [
    "import numpy as np\n",
    "seed = 0xDEADF00D\n",
    "np.random.seed(seed)"
   ]
  },
  {
   "cell_type": "code",
   "execution_count": 2,
   "metadata": {},
   "outputs": [
    {
     "name": "stdout",
     "output_type": "stream",
     "text": [
      "Число задач (n_problems): 2000, число экспертов (n_experts): 20\n"
     ]
    }
   ],
   "source": [
    "L = np.load('L.npy')\n",
    "n, m = L.shape\n",
    "print(f\"Число задач (n_problems): {n}, число экспертов (n_experts): {m}\")"
   ]
  },
  {
   "cell_type": "markdown",
   "metadata": {},
   "source": [
    "---"
   ]
  },
  {
   "cell_type": "markdown",
   "metadata": {},
   "source": [
    "**Задание 1. (2 балла)** Реализуйте EM-алгоритм для заданной выше модели. Вы можете воспользоваться предложенными шаблонами или написать свои. \n",
    "\n",
    "Обратите внимание, что правдоподобие моделирует не вероятность метки $l_{ij}$ принять значение 1 или 0, а вероятность того, что она равна скрытой переменной $z_i$, т.е. $p(l_{ij} = z_j|z_j, \\alpha_j, \\beta_i) \\neq p(l_{ij} = 1|\\alpha_j, \\beta_i) $. При этом заранее неизвестно, какая из скрытых переменных соответствует метке 1. Не забывайте, что параметры $\\beta_i$ должны быть неотрицательными; для этого оптимизируйте $\\log \\beta$. На M-шаге можете использовать как один шаг градиентного спуска, так и несколько: разумные результаты у вас должны получаться вне зависимости от числа итераций.\n",
    "\n",
    "**Подсказки (могут быть актуальны на все задание):**\n",
    "\n",
    "* При работе с вероятностями не забывайте о точности:\n",
    " 1. Используйте логарифмы вероятностей.\n",
    " 2. $\\log \\sigma(a)$ лучше преобразовать в $\\log \\sigma(a) = -\\log(1 + \\exp(-a)) = -\\mathrm{softplus}(-a) $\n",
    " 3. Ещё полезные функции: `scipy.special.expit`, `scipy.special.logsumexp`, `np.log1p`\n",
    "* Для отладки может быть полезно проверить градиенты, возвращаемые функциями `alpha_grad_lb` и `logbeta_grad_lb` с помощью `scipy.optimize.check_grad`.\n",
    "* Размеры возвращаемых значений, указанные в докстринге функций могут помочь вам понять, что необходимо возвращать\n",
    "* Почитайте докстринги, в них есть подсказки и ссылки на формулы из семинара\n",
    "* Если у вас вылезают где-то nan/inf -- попробуйте урезать значения снизу. Например, у вас есть место, где берется log(theta) -- тут имеет смысл урезать theta = max(theta, eps), где eps какое-то маленькое число (например 1e-8)"
   ]
  },
  {
   "cell_type": "markdown",
   "metadata": {},
   "source": [
    "---"
   ]
  },
  {
   "cell_type": "code",
   "execution_count": 3,
   "metadata": {},
   "outputs": [],
   "source": [
    "def softplus(x):\n",
    "    '''stable version of log(1 + exp(x))'''\n",
    "    c = (x > 20) * 1.\n",
    "    return np.log1p(np.exp(x * (1-c)) * (1-c)) + x * c"
   ]
  },
  {
   "cell_type": "markdown",
   "metadata": {},
   "source": [
    "Используемые формулы\n",
    "\n",
    "1. Вероятность меток:\n",
    "   $$ p(l_{ij} | z_j, \\alpha, \\beta) = \\sigma(\\alpha_j \\beta_i)^{[l_{ij} = z_j]} \\sigma(-\\alpha_j \\beta_i)^{1 - [l_{ij} = z_j]} $$\n",
    "\n",
    "2. Априорное распределение:\n",
    "   $$ p(z_j) = 0.5 $$\n",
    "\n",
    "3. Логарифм правдоподобия:\n",
    "   $$ \\log p(L | \\alpha, \\beta) = \\sum_{i=1}^{n} \\sum_{j=1}^{m} [l_{ij} = z_j] \\log \\sigma(\\alpha_j \\beta_i) + [l_{ij} \\neq z_j] \\log \\sigma(-\\alpha_j \\beta_i) $$\n"
   ]
  },
  {
   "cell_type": "code",
   "execution_count": 4,
   "metadata": {},
   "outputs": [],
   "source": [
    "import numpy as np\n",
    "from scipy.special import expit, logsumexp\n",
    "\n",
    "def softplus(x):\n",
    "    '''stable version of log(1 + exp(x))'''\n",
    "    c = (x > 20) * 1.\n",
    "    return np.log1p(np.exp(x * (1-c)) * (1-c)) + x * c\n",
    "\n",
    "def log_likelihood(alpha, beta, L, z):\n",
    "    \"\"\" p(l=z|z, \\alpha, \\beta)\n",
    "    Args:\n",
    "        alpha: ndarray of shape (n_experts).\n",
    "        beta: ndarray of shape (n_problems).\n",
    "        L: ndarray of shape (n_problems, n_experts).\n",
    "        z: ndarray of shape (n_problems).\n",
    "    Returns:\n",
    "        ndarray of shape (n_problems,)\n",
    "    \"\"\"\n",
    "    n_problems, n_experts = L.shape\n",
    "    likelihood = np.zeros(n_problems)\n",
    "\n",
    "    for i in range(n_problems):\n",
    "        for j in range(n_experts):\n",
    "            if L[i, j] == z[i]:\n",
    "                likelihood[i] += -softplus(-alpha[j] * beta[i])\n",
    "            else:\n",
    "                likelihood[i] += -softplus(alpha[j] * beta[i])\n",
    "\n",
    "    return likelihood\n",
    "\n",
    "\n",
    "\n",
    "def posterior(alpha, beta, L):\n",
    "    \"\"\" Posterior over true labels z p(z|l, \\alpha, \\beta)\n",
    "    Args:\n",
    "        alpha: ndarray of shape (n_experts).\n",
    "        beta: ndarray of shape (n_problems).\n",
    "        L: ndarray of shape (n_problems, n_experts).\n",
    "    Returns:\n",
    "        ndarray of shape (2, n_problems)\n",
    "        (2 -- for z = 0 and for z = 1, n_problems -- for each problem in data)\n",
    "    \"\"\"\n",
    "    n_problems = L.shape[0]\n",
    "    \n",
    "    # Инициализация вероятностей\n",
    "    log_p_z_0 = np.log(0.5) + log_likelihood(alpha, beta, L, 0)\n",
    "    log_p_z_1 = np.log(0.5) + log_likelihood(alpha, beta, L, 1)\n",
    "\n",
    "    # Вычисление нормировки\n",
    "    log_sum = logsumexp([log_p_z_0, log_p_z_1], axis=0)\n",
    "\n",
    "    # Постериорные вероятности\n",
    "    p_z_0 = np.exp(log_p_z_0 - log_sum)\n",
    "    p_z_1 = np.exp(log_p_z_1 - log_sum)\n",
    "\n",
    "    return np.array([p_z_0, p_z_1])\n",
    "\n",
    "\n",
    "import numpy as np\n",
    "\n",
    "def posterior(alpha, beta, L):\n",
    "    \"\"\"\n",
    "    Computes the posterior probabilities q for each latent state z.\n",
    "\n",
    "    Args:\n",
    "        alpha (ndarray): Parameters for experts, shape (n_experts,).\n",
    "        beta (ndarray): Parameters for problems, shape (n_problems,).\n",
    "        L (ndarray): Binary assignment matrix, shape (n_problems, n_experts).\n",
    "\n",
    "    Returns:\n",
    "        ndarray: Posterior probabilities q, shape (2, n_problems).\n",
    "    \"\"\"\n",
    "    n_problems, n_experts = L.shape\n",
    "\n",
    "    z0 = np.zeros(n_problems, dtype=int)\n",
    "    z1 = np.ones(n_problems, dtype=int)\n",
    "\n",
    "    log_p_z0 = np.log(0.5) + log_likelihood(alpha, beta, L, z0)\n",
    "    log_p_z1 = np.log(0.5) + log_likelihood(alpha, beta, L, z1)\n",
    "\n",
    "    max_log_p_z = np.maximum(log_p_z0, log_p_z1)\n",
    "    p_z0 = np.exp(log_p_z0 - max_log_p_z)\n",
    "    p_z1 = np.exp(log_p_z1 - max_log_p_z)\n",
    "\n",
    "    q0 = p_z0 / (p_z0 + p_z1)\n",
    "    q1 = p_z1 / (p_z0 + p_z1)\n",
    "\n",
    "    return np.vstack([q0, q1])\n",
    "   \n",
    "\n"
   ]
  },
  {
   "cell_type": "markdown",
   "metadata": {},
   "source": [
    "**Подсказка:**\n",
    "* При проверке alpha значения, выдываемые функцией `check_grad` должны быть не более 0.01. Иначе у вас где-то ошибка\n",
    "* При проверке logbeta значения, выдываемые функцией `check_grad` должны быть не более 0.05. Иначе у вас где-то ошибка"
   ]
  },
  {
   "cell_type": "code",
   "execution_count": 5,
   "metadata": {},
   "outputs": [],
   "source": [
    "def alpha_grad_lb(alpha, beta, L, q):\n",
    "    \"\"\"\n",
    "    Gradient of the lower bound with respect to alpha.\n",
    "\n",
    "    Args:\n",
    "        alpha (ndarray): Array of shape (n_experts,).\n",
    "        beta (ndarray): Array of shape (n_problems,).\n",
    "        L (ndarray): Array of shape (n_problems, n_experts) with binary entries (0 or 1).\n",
    "        q (ndarray): Array of shape (2, n_problems), representing the posterior probabilities.\n",
    "\n",
    "    Returns:\n",
    "        ndarray: Gradient array of shape (n_experts,).\n",
    "    \"\"\"\n",
    "    # Вычисляем внешнее произведение a_j * beta_i для всех экспертов j и задач i\n",
    "    a_b = np.outer(beta, alpha)  # Shape: (n_problems, n_experts)\n",
    "    \n",
    "    # Вычисляем sigma(a_j * beta_i) с использованием сигмоидной функции\n",
    "    sigma_a_b = expit(a_b)  # Shape: (n_problems, n_experts)\n",
    "    \n",
    "    # Извлекаем q[z=l_{ij}, i} для всех i и j\n",
    "    # L содержит 0 или 1, поэтому q[L, np.arange(n_problems)[:, None]] выбирает q[0, i] или q[1, i]\n",
    "    q_l = q[L, np.arange(L.shape[0])[:, None]]  # Shape: (n_problems, n_experts)\n",
    "    \n",
    "    # Вычисляем градиент для каждого эксперта j\n",
    "    # gradient = beta[j] * (q_l - sigma(a_j * beta_i))\n",
    "    gradient = beta[:, None] * (q_l - sigma_a_b)  # Shape: (n_problems, n_experts)\n",
    "    \n",
    "    # Суммируем по всем задачам, чтобы получить градиент по отношению к alpha\n",
    "    grad_alpha = np.sum(gradient, axis=0)  # Shape: (n_experts,)\n",
    "    \n",
    "    return grad_alpha\n",
    "\n",
    "def logbeta_grad_lb(alpha, beta, L, q):\n",
    "    \"\"\"\n",
    "    Gradient of the lower bound with respect to log(beta).\n",
    "\n",
    "    Args:\n",
    "        alpha (ndarray): Array of shape (n_experts,).\n",
    "        beta (ndarray): Array of shape (n_problems,).\n",
    "        L (ndarray): Array of shape (n_problems, n_experts) with binary entries (0 or 1).\n",
    "        q (ndarray): Array of shape (2, n_problems), representing the posterior probabilities.\n",
    "\n",
    "    Returns:\n",
    "        ndarray: Gradient array of shape (n_problems,).\n",
    "    \"\"\"\n",
    "    # Вычисляем внешнее произведение a_j * beta_i для всех экспертов j и задач i\n",
    "    a_b = np.outer(beta, alpha)  # Shape: (n_problems, n_experts)\n",
    "    \n",
    "    # Вычисляем sigma(a_j * beta_i) с использованием сигмоидной функции\n",
    "    sigma_a_b = expit(a_b)  # Shape: (n_problems, n_experts)\n",
    "    \n",
    "    # Извлекаем q[z=l_{ij}, i} для всех i и j\n",
    "    q_l = q[L, np.arange(L.shape[0])[:, None]]  # Shape: (n_problems, n_experts)\n",
    "    \n",
    "    # Вычисляем разность (q_l - sigma(a_j * beta_i))\n",
    "    diff = q_l - sigma_a_b  # Shape: (n_problems, n_experts)\n",
    "    \n",
    "    # Умножаем на alpha[j] для каждого эксперта j\n",
    "    alpha_diff = alpha * diff  # Shape: (n_problems, n_experts)\n",
    "    \n",
    "    # Суммируем по всем экспертам j для каждой задачи i\n",
    "    sum_alpha_diff = np.sum(alpha_diff, axis=1)  # Shape: (n_problems,)\n",
    "    \n",
    "    # Вычисляем градиент по отношению к log(beta)\n",
    "    grad_logbeta = beta * sum_alpha_diff  # Shape: (n_problems,)\n",
    "    \n",
    "    return grad_logbeta\n",
    "\n",
    "def lower_bound(alpha, beta, L, q):\n",
    "    \"\"\"\n",
    "    Computes the lower bound of the log-likelihood.\n",
    "\n",
    "    Args:\n",
    "        alpha (ndarray): Array of shape (n_experts,).\n",
    "        beta (ndarray): Array of shape (n_problems,).\n",
    "        L (ndarray): Array of shape (n_problems, n_experts) with binary entries (0 or 1).\n",
    "        q (ndarray): Array of shape (2, n_problems), representing the posterior probabilities.\n",
    "\n",
    "    Returns:\n",
    "        float: The computed lower bound.\n",
    "    \"\"\"\n",
    "    # Вычисляем внешнее произведение a_j * beta_i для всех экспертов j и задач i\n",
    "    a_b = np.outer(beta, alpha)  # Shape: (n_problems, n_experts)\n",
    "    \n",
    "    # Вычисляем log(sigmoid(a_j * beta_i) с использованием стабильной функции softplus\n",
    "    log_sigma_a_b = -softplus(-a_b)  # Shape: (n_problems, n_experts)\n",
    "    \n",
    "    # Вычисляем log(sigmoid(-a_j * beta_i) с использованием стабильной функции softplus\n",
    "    log_sigma_neg_a_b = -softplus(a_b)  # Shape: (n_problems, n_experts)\n",
    "    \n",
    "    # Вычисляем первый член: q[1,i] * L * log_sigma_a_b + q[0,i] * (1 - L) * log_sigma_a_b\n",
    "    term1 = log_sigma_a_b * (q[1, :, None] * L + q[0, :, None] * (1 - L))\n",
    "    \n",
    "    # Вычисляем второй член: q[1,i] * (1 - L) * log_sigma_neg_a_b + q[0,i] * L * log_sigma_neg_a_b\n",
    "    term2 = log_sigma_neg_a_b * (q[1, :, None] * (1 - L) + q[0, :, None] * L)\n",
    "    \n",
    "    # Суммируем все члены\n",
    "    lb = np.sum(term1 + term2)\n",
    "    \n",
    "    # Добавляем постоянный член: sum_i sum_z q[z,i] log(p(z_i)), где p(z_i) = 0.5\n",
    "    lb += L.shape[0] * np.log(0.5)\n",
    "    \n",
    "    return lb\n"
   ]
  },
  {
   "cell_type": "code",
   "execution_count": 6,
   "metadata": {
    "scrolled": true
   },
   "outputs": [
    {
     "name": "stdout",
     "output_type": "stream",
     "text": [
      "alpha.shape: (20,)\n",
      "beta.shape: (2000,)\n",
      "L.shape: (2000, 20)\n",
      "q.shape: (2, 2000)\n"
     ]
    },
    {
     "data": {
      "text/plain": [
       "np.float64(0.0012067199385314283)"
      ]
     },
     "execution_count": 6,
     "metadata": {},
     "output_type": "execute_result"
    }
   ],
   "source": [
    "from scipy.optimize import check_grad\n",
    "from scipy.special import expit\n",
    "\n",
    "alpha, logbeta = np.random.randn(m), np.random.randn(n)\n",
    "beta = np.exp(logbeta)\n",
    "q = np.ones((2, len(beta))) * 0.5\n",
    "\n",
    "print(f\"alpha.shape: {alpha.shape}\")  \n",
    "print(f\"beta.shape: {beta.shape}\")   \n",
    "print(f\"L.shape: {L.shape}\")          \n",
    "print(f\"q.shape: {q.shape}\")          \n",
    "   \n",
    "\n",
    "\n",
    "check_grad(\n",
    "    lambda a: lower_bound(a, beta, L, q),\n",
    "    lambda a: alpha_grad_lb(a, beta, L, q),\n",
    "    alpha\n",
    ")"
   ]
  },
  {
   "cell_type": "code",
   "execution_count": 7,
   "metadata": {},
   "outputs": [
    {
     "data": {
      "text/plain": [
       "np.float64(0.010859882598549893)"
      ]
     },
     "execution_count": 7,
     "metadata": {},
     "output_type": "execute_result"
    }
   ],
   "source": [
    "check_grad(\n",
    "    lambda lb: lower_bound(alpha, np.exp(lb), L, q),\n",
    "    lambda lb: logbeta_grad_lb(alpha, np.exp(lb), L, q),\n",
    "    logbeta\n",
    ")"
   ]
  },
  {
   "cell_type": "code",
   "execution_count": 8,
   "metadata": {},
   "outputs": [],
   "source": [
    "import numpy as np\n",
    "from tqdm import tqdm\n",
    "\n",
    "def em(L, n_steps=1000, lr=1e-3):\n",
    "    \"\"\"\n",
    "    Performs the Expectation-Maximization (EM) algorithm to optimize\n",
    "    the alpha and beta parameters based on the input data L.\n",
    "\n",
    "    Args:\n",
    "        L (ndarray): Binary matrix of shape (n_problems, n_experts) indicating assignments.\n",
    "        n_steps (int): Number of EM iterations to perform.\n",
    "        lr (float): Learning rate for gradient ascent updates.\n",
    "\n",
    "    Returns:\n",
    "        tuple:\n",
    "            alpha (ndarray): Optimized alpha parameters of shape (n_experts,).\n",
    "            beta (ndarray): Optimized beta parameters of shape (n_problems,).\n",
    "            q (ndarray): Posterior probabilities of shape (2, n_problems).\n",
    "    \"\"\"\n",
    "    # Определяем количество задач и экспертов из формы L\n",
    "    n_problems, n_experts = L.shape  # m: количество экспертов\n",
    "\n",
    "    # Инициализируем параметры\n",
    "    alpha = np.random.randn(n_experts)         # shape: (n_experts,)\n",
    "    logbeta = np.random.randn(n_problems)      # shape: (n_problems,)\n",
    "    beta = np.exp(logbeta)                     # Преобразуем log(beta) в beta\n",
    "    q = np.ones((2, n_problems)) * 0.5        # Инициализируем апостериорные вероятности равномерно: Форма (2, n_problems)\n",
    "\n",
    "    for step in tqdm(range(n_steps)):\n",
    "        # -------------------\n",
    "        # E-шаг: Вычисляем апостериорные вероятности\n",
    "        # -------------------\n",
    "        q = posterior(alpha, beta, L)  # Обновляем q, используя текущие параметры\n",
    "\n",
    "        # -------------------\n",
    "        # M-шаг: Обновляем параметры с использованием градиента\n",
    "        # -------------------\n",
    "        # Вычисляем градиенты нижней границы по отношению к alpha и logbeta\n",
    "        grad_alpha = alpha_grad_lb(alpha, beta, L, q)        # shape: (n_experts,)\n",
    "        grad_logbeta = logbeta_grad_lb(alpha, beta, L, q)    # shape: (n_problems,)\n",
    "\n",
    "        # Обновляем параметры\n",
    "        alpha += lr * grad_alpha\n",
    "        logbeta += lr * grad_logbeta\n",
    "        beta = np.exp(logbeta)  # Обновляем beta после изменения logbeta\n",
    "\n",
    "        # print(f'alpha mean {alpha.mean()}')\n",
    "        # print(f'beta mean {beta.mean()}')\n",
    "        # print(f'step {step}')\n",
    "\n",
    "    return alpha, beta, q"
   ]
  },
  {
   "cell_type": "code",
   "execution_count": 9,
   "metadata": {},
   "outputs": [
    {
     "name": "stderr",
     "output_type": "stream",
     "text": [
      "100%|██████████| 1000/1000 [02:13<00:00,  7.49it/s]\n"
     ]
    }
   ],
   "source": [
    "alpha, beta, q = em(L)"
   ]
  },
  {
   "cell_type": "markdown",
   "metadata": {},
   "source": [
    "---"
   ]
  },
  {
   "cell_type": "markdown",
   "metadata": {},
   "source": [
    "**Задание 2. (1 балл)** Загрузите настоящую разметку. Посчитайте `accuracy` разметки, полученной с помощью обычного голосования по большинству среди экспертов, и сравните его с качеством **(?)**, полученным с помощью EM-алгоритма."
   ]
  },
  {
   "cell_type": "markdown",
   "metadata": {},
   "source": [
    "**Разбалловка:**\n",
    "* **0.5 балла** -- качество голосования не менее 0.904\n",
    "* **0.5 балла** -- качестве EM не менее 0.95"
   ]
  },
  {
   "cell_type": "markdown",
   "metadata": {},
   "source": [
    "**Подсказка:**\n",
    "* Помните, что алгоритму не важно, какая метка 0, а какая 1, поэтому если получите качество <0.5, то просто поменяйте метки классов (не забудьте также поменять знак у $\\alpha$). "
   ]
  },
  {
   "cell_type": "markdown",
   "metadata": {},
   "source": [
    "---"
   ]
  },
  {
   "cell_type": "code",
   "execution_count": 10,
   "metadata": {},
   "outputs": [
    {
     "name": "stdout",
     "output_type": "stream",
     "text": [
      "Shape истинных меток y: (2000,)\n",
      "Shape меток экспертов L: (2000, 20)\n",
      "Точность разметки по большинству: 0.9040\n"
     ]
    },
    {
     "name": "stderr",
     "output_type": "stream",
     "text": [
      "100%|██████████| 1000/1000 [02:16<00:00,  7.34it/s]"
     ]
    },
    {
     "name": "stdout",
     "output_type": "stream",
     "text": [
      "Точность разметки с помощью EM-алгоритма: 0.9550\n"
     ]
    },
    {
     "name": "stderr",
     "output_type": "stream",
     "text": [
      "\n"
     ]
    }
   ],
   "source": [
    "# Загрузка истинных меток\n",
    "y = np.load('y.npy')\n",
    "print(f'Shape истинных меток y: {y.shape}')  # shape (2000,)\n",
    "\n",
    "# Загрузка меток от экспертов\n",
    "L = np.load('L.npy')\n",
    "print(f'Shape меток экспертов L: {L.shape}')  # shape (2000, 20)\n",
    "\n",
    "\n",
    "# 1. Вычисление меток через голосование по большинству\n",
    "# Для каждого объекта вычисляется среднее значение меток от экспертов\n",
    "maj_votes = np.round(L.mean(axis=1)).astype(int)  # shape (2000,)\n",
    "accuracy_mv = (maj_votes == y).mean()\n",
    "print(f\"Точность разметки по большинству: {accuracy_mv:.4f}\")\n",
    "\n",
    "# 2. Применение EM-алгоритма\n",
    "alpha, beta, q = em(L)\n",
    "\n",
    "# Предсказанные метки на основе вероятностей q\n",
    "em_labels = (q[0] >= 0.5).astype(int)\n",
    "\n",
    "# Вычисление точности\n",
    "accuracy_em = (em_labels == y).mean()\n",
    "\n",
    "# Проверка необходимости изменения меток\n",
    "if accuracy_em < 0.5:\n",
    "    em_labels = 1 - em_labels\n",
    "    accuracy_em = (em_labels == y).mean()\n",
    "    alpha, beta = beta, alpha  # Меняем параметры доверия экспертов\n",
    "\n",
    "print(f\"Точность разметки с помощью EM-алгоритма: {accuracy_em:.4f}\")\n"
   ]
  },
  {
   "cell_type": "markdown",
   "metadata": {},
   "source": [
    "---"
   ]
  },
  {
   "cell_type": "markdown",
   "metadata": {},
   "source": [
    "**Задание 3. (0.5 балла)** **(?)** Попробуйте проинтерпретировать полученные коэфициенты $\\alpha$. **(?)**  Есть ли в выборке эксперты, которые намеренно голосуют неверно? **(?)**  Как это можно понять по альфам? \n",
    "\n",
    "* Продемонстрируйте, что эксперты действительно чаще голосуют за неверный класс. \n",
    "* Отобразите визуализацию зависимости доли верно размеченных экспертом объектов от коэффициента $\\alpha$.\n",
    "* **(?)**  Прокомментируйте результаты и полученную зависимость."
   ]
  },
  {
   "cell_type": "markdown",
   "metadata": {},
   "source": [
    "**Подсказки:**\n",
    "* Если вы отобразили или хотели отобразить зависимость при помощи обычного plot (график), то посмотрите повнимательнее/подумайте, почему это не очень хорошая визуализация. **Для возможности получения полного балла** правильно будет использовать тип отображения scatter plot.\n",
    "*  Также **для возможности получения полного балла** вам необходимо проинтерпретировать смысл зависимости для всех групп альф, которые вы увидите (спойлер: их должно быть 3:)"
   ]
  },
  {
   "cell_type": "markdown",
   "metadata": {},
   "source": [
    "---"
   ]
  },
  {
   "cell_type": "code",
   "execution_count": 11,
   "metadata": {},
   "outputs": [
    {
     "data": {
      "image/png": "[encoded data removed]",
      "text/plain": [
       "<Figure size 1000x600 with 1 Axes>"
      ]
     },
     "metadata": {},
     "output_type": "display_data"
    }
   ],
   "source": [
    "import matplotlib.pyplot as plt\n",
    "\n",
    "# Инициализация массивов для подсчета верных голосов и общего количества голосов\n",
    "correct_votes = np.zeros(len(alpha))\n",
    "total_votes = np.zeros(len(alpha))\n",
    "\n",
    "for expert in range(len(alpha)):\n",
    "    # Верные положительные: эксперт голосует \"1\" и это действительно \"1\"\n",
    "    true_positive = np.sum((L[:, expert] == 1) & (y == 1))\n",
    "    \n",
    "    # Верные отрицательные: эксперт голосует \"0\" и это действительно \"0\"\n",
    "    true_negative = np.sum((L[:, expert] == 0) & (y == 0))\n",
    "    \n",
    "    # Общее количество голосов: все случаи, когда эксперт голосует \"1\" или \"0\"\n",
    "    total_votes[expert] = np.sum(L[:, expert] == 1) + np.sum(L[:, expert] == 0)\n",
    "    \n",
    "    # Суммируем верные голоса\n",
    "    correct_votes[expert] = true_positive + true_negative\n",
    "\n",
    "# Доля верно размеченных объектов\n",
    "accuracy = correct_votes / total_votes\n",
    "\n",
    "# Визуализация зависимости\n",
    "plt.figure(figsize=(10, 6))\n",
    "plt.scatter(alpha, accuracy, alpha=0.7)\n",
    "plt.title('Зависимость доли верно размеченных объектов от коэффициента α')\n",
    "plt.xlabel('Коэффициенты α')\n",
    "plt.ylabel('Доля верно размеченных объектов')\n",
    "plt.axhline(y=0.5, color='r', linestyle='--')  # Линия для обозначения 50%\n",
    "plt.grid()\n",
    "plt.show()\n",
    "\n"
   ]
  },
  {
   "cell_type": "code",
   "execution_count": 12,
   "metadata": {},
   "outputs": [
    {
     "data": {
      "text/plain": [
       "array([0.697 , 0.709 , 0.919 , 0.6745, 0.6965, 0.917 , 0.686 , 0.9065,\n",
       "       0.0905, 0.704 , 0.0825, 0.082 , 0.911 , 0.681 , 0.6835, 0.679 ,\n",
       "       0.7015, 0.909 , 0.088 , 0.9105])"
      ]
     },
     "execution_count": 12,
     "metadata": {},
     "output_type": "execute_result"
    }
   ],
   "source": [
    "accuracy"
   ]
  },
  {
   "cell_type": "markdown",
   "metadata": {},
   "source": [
    "__Интерпретация 3 полученных групп экспертов и то, как различные показатели α и accuracy связаны с их предсказательной способностью:__\n",
    "\n",
    "1. Эксперты с низким α и высоким accuracy (около 0.91)\n",
    "2. Эксперты со средним α около нуля и средним accuracy (около 0.7)\n",
    "3. Эксперты с высоким α и низким accuracy (около 0.09)\n",
    "\n",
    " - Получаем из графика, что эксперты с наибольшим α как будто намерено голосуют неверно. Если проинвертировать их голоса, то получим высокие accuracy.\n",
    "\n",
    " - Также складывается впечатление, что эксперты с низким α намерено голосуют обратно тому, как голосуют эксперты с высоким α и поэтому получают столь большие показатели accuracy. (ведь в сумме accuracy экспертов из 1 и 3 групп как раз дают единицу)\n",
    "\n",
    " - Вторая же группа - группа обычных экспертов, которые голосуют сами, набирая в среднем 0.7 accuracy.\n",
    "\n",
    " __Можно предположить, если бы эксперты с высоким α не голосовали намеренно неверно, а эксперты с низким α не повторяли бы за ними, распределение было бы совмсем другим.__"
   ]
  },
  {
   "cell_type": "markdown",
   "metadata": {},
   "source": [
    "---"
   ]
  },
  {
   "cell_type": "markdown",
   "metadata": {},
   "source": [
    "**Задание 4. (бонус, 1 балл)**  Как уже было замечено выше, модели не важно, какой класс 1, а какой 0. Скажем, если все эксперты оказались максимально противными и ставят метку с точностью наоборот, то у вас будет полная согласованность между экспертами, при этом невозможно понять правильно они разметили выборку или нет, смотря только на такую разметку. Чтобы избежать этого, можно включать в выборку вопрос с заведомо известным ответом, тогда вы сможете определить, ставит ли эксперт специально неверные метки.\n",
    "\n",
    "Чтобы обощить данную модель на случай заданий с заведомо известной меткой, достоточно не делать для них E-шаг, а всегда полагать апостериорное распределение вырожденным в истинном классе. \n",
    "\n",
    "* Реализуйте данную модель и используйте истинную разметку *для нескольких* задач из обучения. \n",
    "* **(?)**  Сравните модифицированный алгоритм с обычным. \n",
    "* **(?)** Проинтерпретируйте полученные результаты."
   ]
  },
  {
   "cell_type": "markdown",
   "metadata": {},
   "source": [
    "**Подсказка:**\n",
    "* Как можно сравнить, что модифицированный алгоритм действительно \"лучше\" обычного: запускаем обычный и модифицированный много раз (например, 100). Для каждой версии считаем распределение полученных accuracy_score. Если все сделано верно, то в модифицированной версии доля больших значений accuracy должна быть выше, чем низких (это как раз и есть сигнал о перепутывании классов), а в обычной версии -- доли должны быть примерно равны. **Для возможности получения полного балла мы ожидаем от вас какого-то такого или похожего сравнения**"
   ]
  },
  {
   "cell_type": "code",
   "execution_count": 13,
   "metadata": {},
   "outputs": [
    {
     "name": "stderr",
     "output_type": "stream",
     "text": [
      "Сравнение EM алгоритмов: 100%|██████████| 50/50 [1:08:16<00:00, 81.94s/it]\n"
     ]
    },
    {
     "data": {
      "image/png": "[encoded data removed]",
      "text/plain": [
       "<Figure size 1200x600 with 1 Axes>"
      ]
     },
     "metadata": {},
     "output_type": "display_data"
    },
    {
     "name": "stdout",
     "output_type": "stream",
     "text": [
      "Средняя точность обычного EM: 0.9286\n",
      "Средняя точность модифицированного EM: 0.9351\n"
     ]
    }
   ],
   "source": [
    "import numpy as np\n",
    "from tqdm import tqdm\n",
    "import matplotlib.pyplot as plt\n",
    "from sklearn.metrics import accuracy_score\n",
    "\n",
    "# Устанавливаем для воспроизводимости результатов\n",
    "np.random.seed(42)\n",
    "\n",
    "\n",
    "\n",
    "def posterior(alpha, beta, L, known_labels=None):\n",
    "\n",
    "    n_problems, n_experts = L.shape\n",
    "    \n",
    "    # Инициализация массивов для z=0 и z=1\n",
    "    z0 = np.zeros(n_problems, dtype=int)\n",
    "    z1 = np.ones(n_problems, dtype=int)\n",
    "    \n",
    "    # Вычисляем логарифмические вероятности\n",
    "    log_p_z0 = np.log(0.5 + 1e-10) + log_likelihood(alpha, beta, L, z0)\n",
    "    log_p_z1 = np.log(0.5 + 1e-10) + log_likelihood(alpha, beta, L, z1)\n",
    "    \n",
    "    # Применяем трюк log-sum-exp для стабильности\n",
    "    max_log_p_z = np.maximum(log_p_z0, log_p_z1)\n",
    "    p_z0 = np.exp(log_p_z0 - max_log_p_z)\n",
    "    p_z1 = np.exp(log_p_z1 - max_log_p_z)\n",
    "    \n",
    "    # Нормализация для получения вероятностей\n",
    "    q0 = p_z0 / (p_z0 + p_z1)\n",
    "    q1 = p_z1 / (p_z0 + p_z1)\n",
    "    \n",
    "    # Если есть известные метки, устанавливаем соответствующие вероятности\n",
    "    if known_labels is not None:\n",
    "        for i, label in known_labels.items():\n",
    "            if label == 0:\n",
    "                q0[i] = 1.0\n",
    "                q1[i] = 0.0\n",
    "            else:\n",
    "                q0[i] = 0.0\n",
    "                q1[i] = 1.0\n",
    "    \n",
    "    # Формируем итоговую матрицу апостериорных вероятностей\n",
    "    return np.vstack([q0, q1])\n",
    "\n",
    "def em(L, known_labels=None, n_steps=300, lr=1e-3):\n",
    "\n",
    "    n_problems, n_experts = L.shape  # m: количество экспертов\n",
    "    \n",
    "    # Инициализация параметров\n",
    "    alpha = np.random.rand(n_experts) * 0.5 + 0.25  # Избегаем крайних значений\n",
    "    logbeta = np.random.randn(n_problems)\n",
    "    beta = np.exp(logbeta) / (1 + np.exp(logbeta))  # Преобразуем в (0,1)\n",
    "    \n",
    "    # Инициализация апостериорных вероятностей\n",
    "    q = np.ones((2, n_problems)) * 0.5\n",
    "    \n",
    "    for step in range(n_steps):\n",
    "        # E-шаг: обновляем апостериорные вероятности\n",
    "        q = posterior(alpha, beta, L, known_labels)\n",
    "        \n",
    "        # M-шаг: вычисляем градиенты и обновляем параметры\n",
    "        grad_alpha = alpha_grad_lb(alpha, beta, L, q)\n",
    "        grad_logbeta = logbeta_grad_lb(alpha, beta, L, q)\n",
    "        \n",
    "        # Обновляем параметры с использованием градиентного подъёма\n",
    "        alpha += lr * grad_alpha\n",
    "        logbeta += lr * grad_logbeta\n",
    "        beta = np.exp(logbeta) / (1 + np.exp(logbeta))  # Обновляем beta\n",
    "        \n",
    "        # Ограничиваем значения alpha в интервале (0.01, 0.99) для стабильности\n",
    "        alpha = np.clip(alpha, 0.01, 0.99)\n",
    "        beta = np.clip(beta, 0.01, 0.99)\n",
    "    \n",
    "    return alpha, beta, q\n",
    "\n",
    "\n",
    "# Функция для получения предсказанных меток из апостериорных вероятностей\n",
    "def get_predicted_labels(q):\n",
    "    return np.argmax(q, axis=0)\n",
    "\n",
    "# Основная часть: сравнение обычного и модифицированного алгоритмов EM\n",
    "def compare_em_algorithms(n_runs=100, known_fraction=0.1):\n",
    "    \"\"\"\n",
    "    Сравнивает обычный EM и модифицированный EM с известными метками.\n",
    "    \n",
    "    Аргументы:\n",
    "    n_runs -- количество запусков для статистики\n",
    "    known_fraction -- доля задач с известными метками\n",
    "    \n",
    "    Возвращает:\n",
    "    accuracies_regular -- список точностей для обычного EM\n",
    "    accuracies_modified -- список точностей для модифицированного EM\n",
    "    \"\"\"\n",
    "    accuracies_regular = []\n",
    "    accuracies_modified = []\n",
    "    \n",
    "    for run in tqdm(range(n_runs), desc=\"Сравнение EM алгоритмов\"):\n",
    "        # Выбираем долю задач с известными метками\n",
    "\n",
    "        n_problems, m = L.shape\n",
    "        # print(f\"Число задач (n_problems): {n}, число экспертов (n_experts): {m}\")\n",
    "\n",
    "        n_known = int(n_problems * known_fraction)\n",
    "        known_indices = np.random.choice(n_problems, size=n_known, replace=False)\n",
    "        known_labels = {i: y[i] for i in known_indices}\n",
    "        \n",
    "        # Запуск обычного EM\n",
    "        alpha_reg, beta_reg, q_reg = em(L, known_labels=None, n_steps=300, lr=1e-3)\n",
    "        y_pred_reg = get_predicted_labels(q_reg)\n",
    "        acc_reg = accuracy_score(y, y_pred_reg)\n",
    "        accuracies_regular.append(acc_reg)\n",
    "        \n",
    "        # Запуск модифицированного EM с известными метками\n",
    "        alpha_mod, beta_mod, q_mod = em(L, known_labels=known_labels, n_steps=300, lr=1e-3)\n",
    "        y_pred_mod = get_predicted_labels(q_mod)\n",
    "        acc_mod = accuracy_score(y, y_pred_mod)\n",
    "        accuracies_modified.append(acc_mod)\n",
    "    \n",
    "    return accuracies_regular, accuracies_modified\n",
    "\n",
    "\n",
    "# Выполняем сравнение\n",
    "n_runs = 50\n",
    "accuracies_regular, accuracies_modified = compare_em_algorithms(n_runs=n_runs)\n",
    "\n",
    "# Визуализация результатов\n",
    "plt.figure(figsize=(12,6))\n",
    "plt.hist(accuracies_regular, bins=20, alpha=0.5, label='Обычный EM')\n",
    "plt.hist(accuracies_modified, bins=20, alpha=0.5, label='Модифицированный EM с известными метками')\n",
    "plt.xlabel('Точность')\n",
    "plt.ylabel('Частота')\n",
    "plt.title('Сравнение точности обычного и модифицированного EM алгоритмов')\n",
    "plt.legend()\n",
    "plt.show()\n",
    "\n",
    "# Статистическое сравнение\n",
    "mean_reg = np.mean(accuracies_regular)\n",
    "mean_mod = np.mean(accuracies_modified)\n",
    "print(f\"Средняя точность обычного EM: {mean_reg:.4f}\")\n",
    "print(f\"Средняя точность модифицированного EM: {mean_mod:.4f}\")"
   ]
  },
  {
   "cell_type": "markdown",
   "metadata": {},
   "source": [
    "__Интерпретация результатов:__\n",
    "Модифицированный EM алгоритм, использующий известные метки, показывает более высокую и стабильную точность по сравнению с обычным EM.\n",
    "Это подтверждает, что наличие известных меток помогает модели избежать неоднозначности в определении истинных меток задач и улучшает общую производительность."
   ]
  },
  {
   "cell_type": "markdown",
   "metadata": {},
   "source": [
    "---"
   ]
  },
  {
   "cell_type": "markdown",
   "metadata": {},
   "source": [
    "### Картинка для поддержки ваших чувств по этому заданию"
   ]
  },
  {
   "cell_type": "markdown",
   "metadata": {},
   "source": [
    "![](https://a.d-cd.net/RAAAAgCnO-A-960.jpg)"
   ]
  }
 ],
 "metadata": {
  "kernelspec": {
   "display_name": "Python 3 (ipykernel)",
   "language": "python",
   "name": "python3"
  },
  "language_info": {
   "codemirror_mode": {
    "name": "ipython",
    "version": 3
   },
   "file_extension": ".py",
   "mimetype": "text/x-python",
   "name": "python",
   "nbconvert_exporter": "python",
   "pygments_lexer": "ipython3",
   "version": "3.12.6"
  }
 },
 "nbformat": 4,
 "nbformat_minor": 4
}
